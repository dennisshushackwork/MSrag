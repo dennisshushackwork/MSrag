{
 "cells": [
  {
   "cell_type": "markdown",
   "id": "3ad27c76860193b8",
   "metadata": {},
   "source": [
    "# Faiss (Facebook AI Similarity Search from Facebook AI)\n",
    "\n",
    "Allows us to compare vectors with very high efficiency. We can scale this to millions/billions of vecotors for efficient similarity search. In normal similarity search we would need to calculate the distance between our query vector and the vectors in our database. We can restrict our search to for example a certain region around the query vector.\n",
    "\n",
    "## IndexFlatL2\n",
    "The index is called flat, as we are not modifying the vectors in any way. `L2` is the Euclidean norm or distance metric used here.\n",
    "\n",
    "\n",
    "\n"
   ]
  },
  {
   "cell_type": "code",
   "execution_count": null,
   "id": "e4f341fd-c2e6-44f9-9b67-718c27b32e03",
   "metadata": {},
   "outputs": [],
   "source": []
  },
  {
   "cell_type": "code",
   "execution_count": null,
   "id": "53e1c3871af37602",
   "metadata": {},
   "outputs": [],
   "source": []
  },
  {
   "cell_type": "code",
   "execution_count": null,
   "id": "1fd72c438919c753",
   "metadata": {},
   "outputs": [],
   "source": []
  }
 ],
 "metadata": {
  "kernelspec": {
   "display_name": "Python 3 (ipykernel)",
   "language": "python",
   "name": "python3"
  },
  "language_info": {
   "codemirror_mode": {
    "name": "ipython",
    "version": 3
   },
   "file_extension": ".py",
   "mimetype": "text/x-python",
   "name": "python",
   "nbconvert_exporter": "python",
   "pygments_lexer": "ipython3",
   "version": "3.9.6"
  }
 },
 "nbformat": 4,
 "nbformat_minor": 5
}
