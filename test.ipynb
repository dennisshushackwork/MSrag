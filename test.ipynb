{
 "cells": [
  {
   "cell_type": "code",
   "id": "initial_id",
   "metadata": {
    "collapsed": true,
    "ExecuteTime": {
     "end_time": "2025-05-25T21:28:38.945964Z",
     "start_time": "2025-05-25T21:28:38.943160Z"
    }
   },
   "source": "import faiss",
   "outputs": [],
   "execution_count": 10
  },
  {
   "metadata": {
    "ExecuteTime": {
     "end_time": "2025-05-25T21:33:07.121592Z",
     "start_time": "2025-05-25T21:33:06.728386Z"
    }
   },
   "cell_type": "code",
   "source": [
    "xt = faiss.rand((100_000, 256))\n",
    "print(xt[])"
   ],
   "id": "f29008b118a8f34e",
   "outputs": [
    {
     "name": "stderr",
     "output_type": "stream",
     "text": [
      "2025-05-25 23:33:06,948 - postgres.base - INFO - Connected to PostgresSQL database.\n"
     ]
    },
    {
     "ename": "CannotCoerce",
     "evalue": "cannot cast type vector to double precision[]\nLINE 2:         SELECT entity_id, entity_emb::float[] as embedding\n                                            ^\n",
     "output_type": "error",
     "traceback": [
      "\u001B[0;31m---------------------------------------------------------------------------\u001B[0m",
      "\u001B[0;31mCannotCoerce\u001B[0m                              Traceback (most recent call last)",
      "Cell \u001B[0;32mIn[15], line 4\u001B[0m\n\u001B[1;32m      1\u001B[0m \u001B[38;5;28;01mfrom\u001B[39;00m\u001B[38;5;250m \u001B[39m\u001B[38;5;21;01mpostgres\u001B[39;00m\u001B[38;5;21;01m.\u001B[39;00m\u001B[38;5;21;01mresolution\u001B[39;00m\u001B[38;5;250m \u001B[39m\u001B[38;5;28;01mimport\u001B[39;00m ResolutionQueries\n\u001B[1;32m      3\u001B[0m \u001B[38;5;28;01mwith\u001B[39;00m ResolutionQueries() \u001B[38;5;28;01mas\u001B[39;00m res:\n\u001B[0;32m----> 4\u001B[0m     vectors \u001B[38;5;241m=\u001B[39m \u001B[43mres\u001B[49m\u001B[38;5;241;43m.\u001B[39;49m\u001B[43mload_entity_batch\u001B[49m\u001B[43m(\u001B[49m\u001B[43moffset\u001B[49m\u001B[38;5;241;43m=\u001B[39;49m\u001B[38;5;241;43m1\u001B[39;49m\u001B[43m,\u001B[49m\u001B[43m \u001B[49m\u001B[43mlimit\u001B[49m\u001B[38;5;241;43m=\u001B[39;49m\u001B[38;5;241;43m100_000\u001B[39;49m\u001B[43m)\u001B[49m\n",
      "File \u001B[0;32m~/Documents/GitHub/MSrag/postgres/resolution.py:43\u001B[0m, in \u001B[0;36mResolutionQueries.load_entity_batch\u001B[0;34m(self, offset, limit)\u001B[0m\n\u001B[1;32m     35\u001B[0m query \u001B[38;5;241m=\u001B[39m \u001B[38;5;124m\"\"\"\u001B[39m\n\u001B[1;32m     36\u001B[0m \u001B[38;5;124mSELECT entity_id, entity_emb::float[] as embedding\u001B[39m\n\u001B[1;32m     37\u001B[0m \u001B[38;5;124mFROM Entity\u001B[39m\n\u001B[0;32m   (...)\u001B[0m\n\u001B[1;32m     40\u001B[0m \u001B[38;5;124mLIMIT \u001B[39m\u001B[38;5;132;01m%s\u001B[39;00m\u001B[38;5;124m OFFSET \u001B[39m\u001B[38;5;132;01m%s\u001B[39;00m\n\u001B[1;32m     41\u001B[0m \u001B[38;5;124m\u001B[39m\u001B[38;5;124m\"\"\"\u001B[39m\n\u001B[1;32m     42\u001B[0m \u001B[38;5;28;01mwith\u001B[39;00m \u001B[38;5;28mself\u001B[39m\u001B[38;5;241m.\u001B[39mconn\u001B[38;5;241m.\u001B[39mcursor(cursor_factory\u001B[38;5;241m=\u001B[39mDictCursor) \u001B[38;5;28;01mas\u001B[39;00m cur:\n\u001B[0;32m---> 43\u001B[0m     \u001B[43mcur\u001B[49m\u001B[38;5;241;43m.\u001B[39;49m\u001B[43mexecute\u001B[49m\u001B[43m(\u001B[49m\u001B[43mquery\u001B[49m\u001B[43m,\u001B[49m\u001B[43m \u001B[49m\u001B[43m(\u001B[49m\u001B[43mlimit\u001B[49m\u001B[43m,\u001B[49m\u001B[43m \u001B[49m\u001B[43moffset\u001B[49m\u001B[43m)\u001B[49m\u001B[43m)\u001B[49m\n\u001B[1;32m     44\u001B[0m     results \u001B[38;5;241m=\u001B[39m cur\u001B[38;5;241m.\u001B[39mfetchall()\n\u001B[1;32m     45\u001B[0m \u001B[38;5;28;01mif\u001B[39;00m \u001B[38;5;129;01mnot\u001B[39;00m results:\n",
      "File \u001B[0;32m~/Documents/GitHub/MSrag/.venv/lib/python3.9/site-packages/psycopg2/extras.py:146\u001B[0m, in \u001B[0;36mDictCursor.execute\u001B[0;34m(self, query, vars)\u001B[0m\n\u001B[1;32m    144\u001B[0m \u001B[38;5;28mself\u001B[39m\u001B[38;5;241m.\u001B[39mindex \u001B[38;5;241m=\u001B[39m OrderedDict()\n\u001B[1;32m    145\u001B[0m \u001B[38;5;28mself\u001B[39m\u001B[38;5;241m.\u001B[39m_query_executed \u001B[38;5;241m=\u001B[39m \u001B[38;5;28;01mTrue\u001B[39;00m\n\u001B[0;32m--> 146\u001B[0m \u001B[38;5;28;01mreturn\u001B[39;00m \u001B[38;5;28;43msuper\u001B[39;49m\u001B[43m(\u001B[49m\u001B[43m)\u001B[49m\u001B[38;5;241;43m.\u001B[39;49m\u001B[43mexecute\u001B[49m\u001B[43m(\u001B[49m\u001B[43mquery\u001B[49m\u001B[43m,\u001B[49m\u001B[43m \u001B[49m\u001B[38;5;28;43mvars\u001B[39;49m\u001B[43m)\u001B[49m\n",
      "\u001B[0;31mCannotCoerce\u001B[0m: cannot cast type vector to double precision[]\nLINE 2:         SELECT entity_id, entity_emb::float[] as embedding\n                                            ^\n"
     ]
    }
   ],
   "execution_count": 15
  },
  {
   "metadata": {
    "ExecuteTime": {
     "end_time": "2025-05-25T21:28:39.786270Z",
     "start_time": "2025-05-25T21:28:39.780977Z"
    }
   },
   "cell_type": "code",
   "source": [
    "nlist = 2828\n",
    "M = 16\n",
    "nbits = 11\n",
    "nprobe = 53\n",
    "\n",
    "# OPQ transformation\n",
    "opq_matrix = faiss.OPQMatrix(256, M, 256)\n",
    "quantizer = faiss.IndexFlatL2(256)\n",
    "index = faiss.IndexIVFPQ(quantizer, 256, nlist, M, nbits)\n",
    "index = faiss.IndexPreTransform(opq_matrix, index)"
   ],
   "id": "5dfbc4733a256b83",
   "outputs": [],
   "execution_count": 12
  },
  {
   "metadata": {
    "ExecuteTime": {
     "end_time": "2025-05-25T21:31:55.548827Z",
     "start_time": "2025-05-25T21:30:17.233287Z"
    }
   },
   "cell_type": "code",
   "source": [
    "\n",
    "opq_matrix = faiss.OPQMatrix(256, M, 256) # M is the number of subquantizers for OPQ's internal PQ\n",
    "quantizer = faiss.IndexFlatL2(256)\n",
    "index_ivfpq = faiss.IndexIVFPQ(quantizer, 256, nlist, M, nbits)\n",
    "index = faiss.IndexPreTransform(opq_matrix, index_ivfpq)\n",
    "index.train(xt) # Train on the subset\n"
   ],
   "id": "cfb89e3de9d6849b",
   "outputs": [
    {
     "name": "stderr",
     "output_type": "stream",
     "text": [
      "WARNING clustering 100000 points to 2828 centroids: please provide at least 110292 training points\n"
     ]
    },
    {
     "ename": "KeyboardInterrupt",
     "evalue": "",
     "output_type": "error",
     "traceback": [
      "\u001B[0;31m---------------------------------------------------------------------------\u001B[0m",
      "\u001B[0;31mKeyboardInterrupt\u001B[0m                         Traceback (most recent call last)",
      "\u001B[0;32m/var/folders/ms/tkng60sd2g15ztc62jz87k480000gn/T/ipykernel_23032/3199437498.py\u001B[0m in \u001B[0;36m?\u001B[0;34m()\u001B[0m\n\u001B[0;32m----> 5\u001B[0;31m \u001B[0mopq_matrix\u001B[0m \u001B[0;34m=\u001B[0m \u001B[0mfaiss\u001B[0m\u001B[0;34m.\u001B[0m\u001B[0mOPQMatrix\u001B[0m\u001B[0;34m(\u001B[0m\u001B[0;36m256\u001B[0m\u001B[0;34m,\u001B[0m \u001B[0mM\u001B[0m\u001B[0;34m,\u001B[0m \u001B[0;36m256\u001B[0m\u001B[0;34m)\u001B[0m \u001B[0;31m# M is the number of subquantizers for OPQ's internal PQ\u001B[0m\u001B[0;34m\u001B[0m\u001B[0;34m\u001B[0m\u001B[0m\n\u001B[0m\u001B[1;32m      6\u001B[0m \u001B[0mquantizer\u001B[0m \u001B[0;34m=\u001B[0m \u001B[0mfaiss\u001B[0m\u001B[0;34m.\u001B[0m\u001B[0mIndexFlatL2\u001B[0m\u001B[0;34m(\u001B[0m\u001B[0;36m256\u001B[0m\u001B[0;34m)\u001B[0m\u001B[0;34m\u001B[0m\u001B[0;34m\u001B[0m\u001B[0m\n\u001B[1;32m      7\u001B[0m \u001B[0mindex_ivfpq\u001B[0m \u001B[0;34m=\u001B[0m \u001B[0mfaiss\u001B[0m\u001B[0;34m.\u001B[0m\u001B[0mIndexIVFPQ\u001B[0m\u001B[0;34m(\u001B[0m\u001B[0mquantizer\u001B[0m\u001B[0;34m,\u001B[0m \u001B[0;36m256\u001B[0m\u001B[0;34m,\u001B[0m \u001B[0mnlist\u001B[0m\u001B[0;34m,\u001B[0m \u001B[0mM\u001B[0m\u001B[0;34m,\u001B[0m \u001B[0mnbits\u001B[0m\u001B[0;34m)\u001B[0m\u001B[0;34m\u001B[0m\u001B[0;34m\u001B[0m\u001B[0m\n\u001B[1;32m      8\u001B[0m \u001B[0mindex\u001B[0m \u001B[0;34m=\u001B[0m \u001B[0mfaiss\u001B[0m\u001B[0;34m.\u001B[0m\u001B[0mIndexPreTransform\u001B[0m\u001B[0;34m(\u001B[0m\u001B[0mopq_matrix\u001B[0m\u001B[0;34m,\u001B[0m \u001B[0mindex_ivfpq\u001B[0m\u001B[0;34m)\u001B[0m\u001B[0;34m\u001B[0m\u001B[0;34m\u001B[0m\u001B[0m\n",
      "\u001B[0;32m~/Documents/GitHub/MSrag/.venv/lib/python3.9/site-packages/faiss/class_wrappers.py\u001B[0m in \u001B[0;36m?\u001B[0;34m(self, x)\u001B[0m\n\u001B[1;32m    294\u001B[0m         \"\"\"\n\u001B[1;32m    295\u001B[0m         \u001B[0mn\u001B[0m\u001B[0;34m,\u001B[0m \u001B[0md\u001B[0m \u001B[0;34m=\u001B[0m \u001B[0mx\u001B[0m\u001B[0;34m.\u001B[0m\u001B[0mshape\u001B[0m\u001B[0;34m\u001B[0m\u001B[0;34m\u001B[0m\u001B[0m\n\u001B[1;32m    296\u001B[0m         \u001B[0;32massert\u001B[0m \u001B[0md\u001B[0m \u001B[0;34m==\u001B[0m \u001B[0mself\u001B[0m\u001B[0;34m.\u001B[0m\u001B[0md\u001B[0m\u001B[0;34m\u001B[0m\u001B[0;34m\u001B[0m\u001B[0m\n\u001B[1;32m    297\u001B[0m         \u001B[0mx\u001B[0m \u001B[0;34m=\u001B[0m \u001B[0mnp\u001B[0m\u001B[0;34m.\u001B[0m\u001B[0mascontiguousarray\u001B[0m\u001B[0;34m(\u001B[0m\u001B[0mx\u001B[0m\u001B[0;34m,\u001B[0m \u001B[0mdtype\u001B[0m\u001B[0;34m=\u001B[0m\u001B[0;34m'float32'\u001B[0m\u001B[0;34m)\u001B[0m\u001B[0;34m\u001B[0m\u001B[0;34m\u001B[0m\u001B[0m\n\u001B[0;32m--> 298\u001B[0;31m         \u001B[0mself\u001B[0m\u001B[0;34m.\u001B[0m\u001B[0mtrain_c\u001B[0m\u001B[0;34m(\u001B[0m\u001B[0mn\u001B[0m\u001B[0;34m,\u001B[0m \u001B[0mswig_ptr\u001B[0m\u001B[0;34m(\u001B[0m\u001B[0mx\u001B[0m\u001B[0;34m)\u001B[0m\u001B[0;34m)\u001B[0m\u001B[0;34m\u001B[0m\u001B[0;34m\u001B[0m\u001B[0m\n\u001B[0m",
      "\u001B[0;32m~/Documents/GitHub/MSrag/.venv/lib/python3.9/site-packages/faiss/swigfaiss.py\u001B[0m in \u001B[0;36m?\u001B[0;34m(self, n, x)\u001B[0m\n\u001B[1;32m   4610\u001B[0m     \u001B[0;32mdef\u001B[0m \u001B[0mtrain\u001B[0m\u001B[0;34m(\u001B[0m\u001B[0mself\u001B[0m\u001B[0;34m,\u001B[0m \u001B[0mn\u001B[0m\u001B[0;34m,\u001B[0m \u001B[0mx\u001B[0m\u001B[0;34m)\u001B[0m\u001B[0;34m:\u001B[0m\u001B[0;34m\u001B[0m\u001B[0;34m\u001B[0m\u001B[0m\n\u001B[0;32m-> 4611\u001B[0;31m         \u001B[0;32mreturn\u001B[0m \u001B[0m_swigfaiss\u001B[0m\u001B[0;34m.\u001B[0m\u001B[0mIndexPreTransform_train\u001B[0m\u001B[0;34m(\u001B[0m\u001B[0mself\u001B[0m\u001B[0;34m,\u001B[0m \u001B[0mn\u001B[0m\u001B[0;34m,\u001B[0m \u001B[0mx\u001B[0m\u001B[0;34m)\u001B[0m\u001B[0;34m\u001B[0m\u001B[0;34m\u001B[0m\u001B[0m\n\u001B[0m",
      "\u001B[0;31mKeyboardInterrupt\u001B[0m: "
     ]
    }
   ],
   "execution_count": 14
  },
  {
   "metadata": {},
   "cell_type": "code",
   "outputs": [],
   "execution_count": null,
   "source": "",
   "id": "31f66dae81c675cb"
  }
 ],
 "metadata": {
  "kernelspec": {
   "display_name": "Python 3",
   "language": "python",
   "name": "python3"
  },
  "language_info": {
   "codemirror_mode": {
    "name": "ipython",
    "version": 2
   },
   "file_extension": ".py",
   "mimetype": "text/x-python",
   "name": "python",
   "nbconvert_exporter": "python",
   "pygments_lexer": "ipython2",
   "version": "2.7.6"
  }
 },
 "nbformat": 4,
 "nbformat_minor": 5
}
